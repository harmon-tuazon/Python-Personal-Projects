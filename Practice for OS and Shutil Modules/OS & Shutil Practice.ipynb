{
 "cells": [
  {
   "cell_type": "code",
   "execution_count": 46,
   "metadata": {},
   "outputs": [],
   "source": [
    "import shutil\n",
    "import os\n",
    "import re"
   ]
  },
  {
   "cell_type": "code",
   "execution_count": 13,
   "metadata": {},
   "outputs": [],
   "source": [
    "downloads_path = 'C:\\\\Users\\\\harmo\\\\Downloads'\n",
    "os.chdir(downloads_path)"
   ]
  },
  {
   "cell_type": "code",
   "execution_count": 14,
   "metadata": {},
   "outputs": [],
   "source": [
    "shutil.unpack_archive(\"unzip_me_for_instructions.zip\", \"python_puzzle\", \"zip\")"
   ]
  },
  {
   "cell_type": "code",
   "execution_count": null,
   "metadata": {},
   "outputs": [],
   "source": [
    "# Define the format I am looking for\n",
    "pattern = r\"\\d{3}-\\d{3}-\\d{4}\""
   ]
  },
  {
   "cell_type": "code",
   "execution_count": 19,
   "metadata": {},
   "outputs": [
    {
     "data": {
      "text/plain": [
       "'C:\\\\Users\\\\harmo\\\\Downloads\\\\python_puzzle\\\\extracted_content'"
      ]
     },
     "execution_count": 19,
     "metadata": {},
     "output_type": "execute_result"
    }
   ],
   "source": [
    "# Move to directory \n",
    "extracted_folder = r\"C:\\Users\\harmo\\Downloads\\python_puzzle\\extracted_content\"\n",
    "os.chdir(extracted_folder)\n",
    "os.getcwd()"
   ]
  },
  {
   "cell_type": "code",
   "execution_count": 22,
   "metadata": {},
   "outputs": [
    {
     "name": "stdout",
     "output_type": "stream",
     "text": [
      "['Five', 'Four', 'Instructions.txt', 'One', 'Three', 'Two']\n"
     ]
    }
   ],
   "source": [
    "# Get list of directories to confirm present directory\n",
    "list_of_folders = os.listdir()\n",
    "print(list_of_folders)"
   ]
  },
  {
   "cell_type": "code",
   "execution_count": 50,
   "metadata": {},
   "outputs": [
    {
     "name": "stdout",
     "output_type": "stream",
     "text": [
      "719-266-2837\n"
     ]
    }
   ],
   "source": [
    "# Iterate (\"walk\") through each folder to give list of files\n",
    "for directory in list_of_folders:\n",
    "    for folders, subfolders, files in os.walk(directory):\n",
    "        for file_name in files:\n",
    "            # Get the full file path\n",
    "             file_path = os.path.join(folders, file_name)\n",
    "\n",
    "             try:\n",
    "                # Open the file for reading\n",
    "                with open(file_path, 'r') as file:\n",
    "                    # Read the content of the file\n",
    "                    content = file.read()\n",
    "                    # Process the content (Search pattern through text)\n",
    "                    match = re.search(pattern, content) #Searches through text\n",
    "\n",
    "                    if match:\n",
    "                        phone = match.group() #returns phone number\n",
    "                        print(phone)\n",
    "                    else:\n",
    "                        continue\n",
    "\n",
    "             except FileNotFoundError:\n",
    "                print(f\"File {file_path} not found.\")\n",
    "              "
   ]
  }
 ],
 "metadata": {
  "kernelspec": {
   "display_name": "Python 3",
   "language": "python",
   "name": "python3"
  },
  "language_info": {
   "codemirror_mode": {
    "name": "ipython",
    "version": 3
   },
   "file_extension": ".py",
   "mimetype": "text/x-python",
   "name": "python",
   "nbconvert_exporter": "python",
   "pygments_lexer": "ipython3",
   "version": "3.12.6"
  }
 },
 "nbformat": 4,
 "nbformat_minor": 2
}
